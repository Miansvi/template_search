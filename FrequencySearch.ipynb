{
 "cells": [
  {
   "cell_type": "code",
   "execution_count": 1,
   "id": "d008a253",
   "metadata": {},
   "outputs": [
    {
     "name": "stdout",
     "output_type": "stream",
     "text": [
      "Requirement already satisfied: mlxtend in d:\\files\\anaconda\\lib\\site-packages (0.21.0)\n",
      "Requirement already satisfied: scipy>=1.2.1 in d:\\files\\anaconda\\lib\\site-packages (from mlxtend) (1.9.1)\n",
      "Requirement already satisfied: pandas>=0.24.2 in d:\\files\\anaconda\\lib\\site-packages (from mlxtend) (1.4.4)\n",
      "Requirement already satisfied: setuptools in d:\\files\\anaconda\\lib\\site-packages (from mlxtend) (63.4.1)\n",
      "Requirement already satisfied: matplotlib>=3.0.0 in d:\\files\\anaconda\\lib\\site-packages (from mlxtend) (3.5.2)\n",
      "Requirement already satisfied: joblib>=0.13.2 in d:\\files\\anaconda\\lib\\site-packages (from mlxtend) (1.1.0)\n",
      "Requirement already satisfied: scikit-learn>=1.0.2 in d:\\files\\anaconda\\lib\\site-packages (from mlxtend) (1.0.2)\n",
      "Requirement already satisfied: numpy>=1.16.2 in d:\\files\\anaconda\\lib\\site-packages (from mlxtend) (1.21.5)\n",
      "Requirement already satisfied: pillow>=6.2.0 in d:\\files\\anaconda\\lib\\site-packages (from matplotlib>=3.0.0->mlxtend) (9.2.0)\n",
      "Requirement already satisfied: cycler>=0.10 in d:\\files\\anaconda\\lib\\site-packages (from matplotlib>=3.0.0->mlxtend) (0.11.0)\n",
      "Requirement already satisfied: fonttools>=4.22.0 in d:\\files\\anaconda\\lib\\site-packages (from matplotlib>=3.0.0->mlxtend) (4.25.0)\n",
      "Requirement already satisfied: python-dateutil>=2.7 in d:\\files\\anaconda\\lib\\site-packages (from matplotlib>=3.0.0->mlxtend) (2.8.2)\n",
      "Requirement already satisfied: kiwisolver>=1.0.1 in d:\\files\\anaconda\\lib\\site-packages (from matplotlib>=3.0.0->mlxtend) (1.4.2)\n",
      "Requirement already satisfied: pyparsing>=2.2.1 in d:\\files\\anaconda\\lib\\site-packages (from matplotlib>=3.0.0->mlxtend) (3.0.9)\n",
      "Requirement already satisfied: packaging>=20.0 in d:\\files\\anaconda\\lib\\site-packages (from matplotlib>=3.0.0->mlxtend) (21.3)\n",
      "Requirement already satisfied: pytz>=2020.1 in d:\\files\\anaconda\\lib\\site-packages (from pandas>=0.24.2->mlxtend) (2022.1)\n",
      "Requirement already satisfied: threadpoolctl>=2.0.0 in d:\\files\\anaconda\\lib\\site-packages (from scikit-learn>=1.0.2->mlxtend) (2.2.0)\n",
      "Requirement already satisfied: six>=1.5 in d:\\files\\anaconda\\lib\\site-packages (from python-dateutil>=2.7->matplotlib>=3.0.0->mlxtend) (1.16.0)\n"
     ]
    }
   ],
   "source": [
    "!pip install mlxtend"
   ]
  },
  {
   "cell_type": "code",
   "execution_count": 2,
   "id": "e69f8b4a",
   "metadata": {},
   "outputs": [
    {
     "name": "stdout",
     "output_type": "stream",
     "text": [
      "Requirement already satisfied: pyECLAT in d:\\files\\anaconda\\lib\\site-packages (1.0.2)\n",
      "Requirement already satisfied: tqdm>=4.41.1 in d:\\files\\anaconda\\lib\\site-packages (from pyECLAT) (4.64.1)\n",
      "Requirement already satisfied: numpy>=1.17.4 in d:\\files\\anaconda\\lib\\site-packages (from pyECLAT) (1.21.5)\n",
      "Requirement already satisfied: pandas>=0.25.3 in d:\\files\\anaconda\\lib\\site-packages (from pyECLAT) (1.4.4)\n",
      "Requirement already satisfied: pytz>=2020.1 in d:\\files\\anaconda\\lib\\site-packages (from pandas>=0.25.3->pyECLAT) (2022.1)\n",
      "Requirement already satisfied: python-dateutil>=2.8.1 in d:\\files\\anaconda\\lib\\site-packages (from pandas>=0.25.3->pyECLAT) (2.8.2)\n",
      "Requirement already satisfied: colorama in d:\\files\\anaconda\\lib\\site-packages (from tqdm>=4.41.1->pyECLAT) (0.4.5)\n",
      "Requirement already satisfied: six>=1.5 in d:\\files\\anaconda\\lib\\site-packages (from python-dateutil>=2.8.1->pandas>=0.25.3->pyECLAT) (1.16.0)\n",
      "Note: you may need to restart the kernel to use updated packages.\n"
     ]
    },
    {
     "name": "stderr",
     "output_type": "stream",
     "text": [
      "D:\\Files\\Anaconda\\lib\\site-packages\\seaborn\\rcmod.py:82: DeprecationWarning: distutils Version classes are deprecated. Use packaging.version instead.\n",
      "  if LooseVersion(mpl.__version__) >= \"3.0\":\n",
      "D:\\Files\\Anaconda\\lib\\site-packages\\setuptools\\_distutils\\version.py:346: DeprecationWarning: distutils Version classes are deprecated. Use packaging.version instead.\n",
      "  other = LooseVersion(other)\n"
     ]
    }
   ],
   "source": [
    "import pandas as pd\n",
    "import DatasetManager as dm\n",
    "\n",
    "from mlxtend.frequent_patterns import apriori\n",
    "from mlxtend.preprocessing import TransactionEncoder\n",
    "\n",
    "from mlxtend.frequent_patterns import fpgrowth\n",
    "\n",
    "from Eclat import Eclat\n",
    "\n",
    "import time"
   ]
  },
  {
   "cell_type": "code",
   "execution_count": 3,
   "id": "affdc070",
   "metadata": {},
   "outputs": [],
   "source": [
    "def apriory(min_support, transactions):\n",
    "    te = TransactionEncoder()\n",
    "    te_ary = te.fit(transactions).transform(transactions)\n",
    "    df = pd.DataFrame(te_ary, columns= te.columns_)\n",
    "    \n",
    "    start = time.time()\n",
    "    apriory_res = apriori(df, min_support= min_support, use_colnames=True)\n",
    "    end = time.time() - start\n",
    "    \n",
    "    itemsetsCount = len(apriory_res.itemsets.unique())\n",
    "    \n",
    "    maxLen = 0\n",
    "    for itemsets in apriory_res.itemsets:\n",
    "        if len(itemsets) > maxLen:\n",
    "            maxLen = len(itemsets)\n",
    "    \n",
    "    diffLenItemsets = set()\n",
    "    for itemsets in apriory_res.itemsets:\n",
    "        diffLenItemsets.add(len(itemsets))\n",
    "    \n",
    "    diffLenItemsetsCount = len(diffLenItemsets)\n",
    "            \n",
    "    return (apriory_res, end, itemsetsCount, maxLen, diffLenItemsetsCount)"
   ]
  },
  {
   "cell_type": "code",
   "execution_count": 59,
   "id": "6bcc745d",
   "metadata": {},
   "outputs": [],
   "source": [
    "def eclat(min_support, records):\n",
    "    l = list();\n",
    "    df = pd.DataFrame();\n",
    "    for row in records.values:\n",
    "        l.append([column for column in row if column!=0])\n",
    "    df[\"Item\"] = l\n",
    "    model = Eclat(min_support = min_support)\n",
    "    \n",
    "    start = time.time()\n",
    "    model.fit(df)\n",
    "    end = time.time() - start\n",
    "    \n",
    "    eclat_res = model.transform()\n",
    "    \n",
    "    itemsetsCount = len(eclat_res)\n",
    "    \n",
    "    maxLen = 0\n",
    "    for itemsets in eclat_res:\n",
    "        if len(str(itemsets).split('|')) > maxLen:\n",
    "            maxLen = len(str(itemsets).split('|'))\n",
    "    \n",
    "    diffLenItemsets = set()\n",
    "    for itemsets in eclat_res:\n",
    "        diffLenItemsets.add(len(str(itemsets).split('|')))\n",
    "    \n",
    "    diffLenItemsetsCount = len(diffLenItemsets)\n",
    "    \n",
    "    \n",
    "    return (eclat_res, end, itemsetsCount, maxLen, diffLenItemsetsCount)"
   ]
  },
  {
   "cell_type": "code",
   "execution_count": 5,
   "id": "55e745ea",
   "metadata": {},
   "outputs": [],
   "source": [
    "def fp_growth(min_support, transactions):\n",
    "    te = TransactionEncoder()\n",
    "    te_ary = te.fit(transactions).transform(transactions)\n",
    "    df = pd.DataFrame(te_ary, columns= te.columns_)\n",
    "    \n",
    "    start = time.time()\n",
    "    fpgrowth_res = fpgrowth(df, min_support= min_support, use_colnames=True)\n",
    "    end = time.time() - start\n",
    "    \n",
    "    itemsetsCount = len(fpgrowth_res.itemsets.unique())\n",
    "    \n",
    "    maxLen = 0\n",
    "    for itemsets in fpgrowth_res.itemsets:\n",
    "        if len(itemsets) > maxLen:\n",
    "            maxLen = len(itemsets)\n",
    "    \n",
    "    diffLenItemsets = set()\n",
    "    for itemsets in fpgrowth_res.itemsets:\n",
    "        diffLenItemsets.add(len(itemsets))\n",
    "    \n",
    "    diffLenItemsetsCount = len(diffLenItemsets)\n",
    "            \n",
    "    return (fpgrowth_res, end, itemsetsCount, maxLen, diffLenItemsetsCount)"
   ]
  },
  {
   "cell_type": "markdown",
   "id": "1c3164d3",
   "metadata": {},
   "source": [
    "# 1 dataset"
   ]
  },
  {
   "cell_type": "code",
   "execution_count": 6,
   "id": "18b6cb66",
   "metadata": {},
   "outputs": [],
   "source": [
    "#Загружаем данные\n",
    "#records - преобразованный датасет\n",
    "#products - уникальный список товаров\n",
    "#transactions - транзакции\n",
    "records_1, products_1, transactions_1 = dm.LoadFirst()"
   ]
  },
  {
   "cell_type": "code",
   "execution_count": 7,
   "id": "1418aa78",
   "metadata": {},
   "outputs": [],
   "source": [
    "min_supp_1 = [0.03, 0.003, 0.0003]"
   ]
  },
  {
   "cell_type": "markdown",
   "id": "55c84cc0",
   "metadata": {},
   "source": [
    "### Apriory"
   ]
  },
  {
   "cell_type": "code",
   "execution_count": 49,
   "id": "1c3a1940",
   "metadata": {
    "scrolled": true
   },
   "outputs": [],
   "source": [
    "a_res1_1, a_time1_1, a_itemsetsCount1_1, a_maxLen1_1, a_diffLenItemsetsCount1_1 = apriory(min_supp_1[0], transactions_1)"
   ]
  },
  {
   "cell_type": "code",
   "execution_count": 55,
   "id": "e452ec6e",
   "metadata": {},
   "outputs": [],
   "source": [
    "a_res2_1, a_time2_1, a_itemsetsCount2_1, a_maxLen2_1, a_diffLenItemsetsCount2_1  = apriory(min_supp_1[1], transactions_1)"
   ]
  },
  {
   "cell_type": "code",
   "execution_count": 56,
   "id": "f3ce28ec",
   "metadata": {},
   "outputs": [],
   "source": [
    "a_res3_1, a_time3_1, a_itemsetsCount3_1, a_maxLen3_1, a_diffLenItemsetsCount3_1  = apriory(min_supp_1[2], transactions_1)"
   ]
  },
  {
   "cell_type": "markdown",
   "id": "ebe1e687",
   "metadata": {},
   "source": [
    "### ECLAT"
   ]
  },
  {
   "cell_type": "code",
   "execution_count": 60,
   "id": "db5b5577",
   "metadata": {
    "scrolled": true
   },
   "outputs": [],
   "source": [
    "e_res1_1, e_time1_1, e_itemsetsCount1_1, e_maxLen1_1, e_diffLenItemsetsCount1_1 = eclat(min_supp_1[0], records_1)"
   ]
  },
  {
   "cell_type": "code",
   "execution_count": 61,
   "id": "671c99dc",
   "metadata": {
    "scrolled": true
   },
   "outputs": [],
   "source": [
    "e_res2_1, e_time2_1, e_itemsetsCount2_1, e_maxLen2_1, e_diffLenItemsetsCount2_1  = eclat(min_supp_1[1], records_1)"
   ]
  },
  {
   "cell_type": "code",
   "execution_count": 62,
   "id": "a84a9b0f",
   "metadata": {},
   "outputs": [],
   "source": [
    "e_res3_1, e_time3_1, e_itemsetsCount3_1, e_maxLen3_1, e_diffLenItemsetsCount3_1  = eclat(min_supp_1[2], records_1)"
   ]
  },
  {
   "cell_type": "markdown",
   "id": "07ed99bd",
   "metadata": {},
   "source": [
    "### FP-Growth"
   ]
  },
  {
   "cell_type": "code",
   "execution_count": 15,
   "id": "8976f8fe",
   "metadata": {
    "scrolled": true
   },
   "outputs": [],
   "source": [
    "f_res1_1, f_time1_1, f_itemsetsCount1_1, f_maxLen1_1, f_diffLenItemsetsCount1_1  = fp_growth(min_supp_1[0], transactions_1)"
   ]
  },
  {
   "cell_type": "code",
   "execution_count": 16,
   "id": "10cd9c44",
   "metadata": {},
   "outputs": [],
   "source": [
    "f_res2_1, f_time2_1, f_itemsetsCount2_1, f_maxLen2_1, f_diffLenItemsetsCount2_1 = fp_growth(min_supp_1[1], transactions_1)"
   ]
  },
  {
   "cell_type": "code",
   "execution_count": 17,
   "id": "b570fdfe",
   "metadata": {},
   "outputs": [],
   "source": [
    "f_res3_1, f_time3_1, f_itemsetsCount3_1, f_maxLen3_1, f_diffLenItemsetsCount3_1 = fp_growth(min_supp_1[2], transactions_1)"
   ]
  },
  {
   "cell_type": "markdown",
   "id": "0ce79396",
   "metadata": {},
   "source": [
    "## 2 dataset"
   ]
  },
  {
   "cell_type": "code",
   "execution_count": 18,
   "id": "c609568d",
   "metadata": {},
   "outputs": [],
   "source": [
    "#Загружаем данные\n",
    "#records - преобразованный датасет\n",
    "#products - уникальный список товаров\n",
    "#transactions - транзакции\n",
    "records_2, products_2, transactions_2 = dm.LoadSecond()"
   ]
  },
  {
   "cell_type": "code",
   "execution_count": 19,
   "id": "7d4a759c",
   "metadata": {},
   "outputs": [],
   "source": [
    "min_supp_2 = [0.1, 0.01, 0.001]"
   ]
  },
  {
   "cell_type": "markdown",
   "id": "650048a1",
   "metadata": {},
   "source": [
    "### Apriory"
   ]
  },
  {
   "cell_type": "code",
   "execution_count": 46,
   "id": "30d2f452",
   "metadata": {},
   "outputs": [],
   "source": [
    "a_res1_2, a_time1_2, a_itemsetsCount1_2, a_maxLen1_2, a_diffLenItemsetsCount1_2 = apriory(min_supp_2[0], transactions_2)"
   ]
  },
  {
   "cell_type": "code",
   "execution_count": 47,
   "id": "5672411f",
   "metadata": {},
   "outputs": [],
   "source": [
    "a_res2_2, a_time2_2, a_itemsetsCount2_2, a_maxLen2_2, a_diffLenItemsetsCount2_2 = apriory(min_supp_2[1], transactions_2)"
   ]
  },
  {
   "cell_type": "code",
   "execution_count": 48,
   "id": "48e65861",
   "metadata": {},
   "outputs": [],
   "source": [
    "a_res3_2, a_time3_2, a_itemsetsCount3_2, a_maxLen3_2, a_diffLenItemsetsCount3_2 = apriory(min_supp_2[2], transactions_2)"
   ]
  },
  {
   "cell_type": "markdown",
   "id": "78cdeb55",
   "metadata": {},
   "source": [
    "### ECLAT"
   ]
  },
  {
   "cell_type": "code",
   "execution_count": 63,
   "id": "bc560b5f",
   "metadata": {},
   "outputs": [],
   "source": [
    "e_res1_2, e_time1_2, e_itemsetsCount1_2, e_maxLen1_2, e_diffLenItemsetsCount1_2 = eclat(min_supp_2[0], records_2)"
   ]
  },
  {
   "cell_type": "code",
   "execution_count": 64,
   "id": "6bb83880",
   "metadata": {},
   "outputs": [],
   "source": [
    "e_res2_2, e_time2_2, e_itemsetsCount2_2, e_maxLen2_2, e_diffLenItemsetsCount2_2 = eclat(min_supp_2[1], records_2)"
   ]
  },
  {
   "cell_type": "code",
   "execution_count": 65,
   "id": "fb582cdb",
   "metadata": {},
   "outputs": [],
   "source": [
    "e_res3_2, e_time3_2, e_itemsetsCount3_2, e_maxLen3_2, e_diffLenItemsetsCount3_2 = eclat(min_supp_2[2], records_2)"
   ]
  },
  {
   "cell_type": "markdown",
   "id": "a36661c1",
   "metadata": {},
   "source": [
    "### FP-GROWTH"
   ]
  },
  {
   "cell_type": "code",
   "execution_count": 26,
   "id": "ff628262",
   "metadata": {},
   "outputs": [],
   "source": [
    "f_res1_2, f_time1_2, f_itemsetsCount1_2, f_maxLen1_2, f_diffLenItemsetsCount1_2 = fp_growth(min_supp_2[0], transactions_2)"
   ]
  },
  {
   "cell_type": "code",
   "execution_count": 27,
   "id": "97901db6",
   "metadata": {},
   "outputs": [],
   "source": [
    "f_res2_2, f_time2_2, f_itemsetsCount2_2, f_maxLen2_2, f_diffLenItemsetsCount2_2 = fp_growth(min_supp_2[1], transactions_2)"
   ]
  },
  {
   "cell_type": "code",
   "execution_count": 28,
   "id": "93615246",
   "metadata": {},
   "outputs": [],
   "source": [
    "f_res3_2, f_time3_2, f_itemsetsCount3_2, f_maxLen3_2, f_diffLenItemsetsCount3_2 = fp_growth(min_supp_2[2], transactions_2)"
   ]
  },
  {
   "cell_type": "markdown",
   "id": "36aefbad",
   "metadata": {},
   "source": [
    "## 3 dataset"
   ]
  },
  {
   "cell_type": "code",
   "execution_count": 29,
   "id": "7430628a",
   "metadata": {},
   "outputs": [],
   "source": [
    "#Загружаем данные\n",
    "#records - преобразованный датасет\n",
    "#products - уникальный список товаров\n",
    "#transactions - транзакции\n",
    "records_3, products_3, transactions_3 = dm.LoadThird()"
   ]
  },
  {
   "cell_type": "code",
   "execution_count": 30,
   "id": "f985b5c7",
   "metadata": {},
   "outputs": [],
   "source": [
    "min_supp_3 = [0.02, 0.002, 0.002]"
   ]
  },
  {
   "cell_type": "markdown",
   "id": "05301a05",
   "metadata": {},
   "source": [
    "### Apriory"
   ]
  },
  {
   "cell_type": "code",
   "execution_count": 78,
   "id": "75461d89",
   "metadata": {},
   "outputs": [],
   "source": [
    "a_res1_3, a_time1_3, a_itemsetsCount1_3, a_maxLen1_3, a_diffLenItemsetsCount1_3 = apriory(min_supp_3[0], transactions_3)"
   ]
  },
  {
   "cell_type": "code",
   "execution_count": 79,
   "id": "e7fd9b32",
   "metadata": {},
   "outputs": [],
   "source": [
    "a_res2_3, a_time2_3, a_itemsetsCount2_3, a_maxLen2_3, a_diffLenItemsetsCount2_3 = apriory(min_supp_3[1], transactions_3)"
   ]
  },
  {
   "cell_type": "code",
   "execution_count": 80,
   "id": "ec12aad6",
   "metadata": {},
   "outputs": [],
   "source": [
    "a_res3_3, a_time3_3, a_itemsetsCount3_3, a_maxLen3_3, a_diffLenItemsetsCount3_3 = apriory(min_supp_3[2], transactions_3)"
   ]
  },
  {
   "cell_type": "markdown",
   "id": "056a6e99",
   "metadata": {},
   "source": [
    "### ECLAT"
   ]
  },
  {
   "cell_type": "code",
   "execution_count": 66,
   "id": "2294b7c8",
   "metadata": {},
   "outputs": [],
   "source": [
    "e_res1_3, e_time1_3, e_itemsetsCount1_3, e_maxLen1_3, e_diffLenItemsetsCount1_3 = eclat(min_supp_3[0], records_3)"
   ]
  },
  {
   "cell_type": "code",
   "execution_count": 67,
   "id": "5752ffd4",
   "metadata": {},
   "outputs": [],
   "source": [
    "e_res2_3, e_time2_3, e_itemsetsCount2_3, e_maxLen2_3, e_diffLenItemsetsCount2_3 = eclat(min_supp_3[1], records_3)"
   ]
  },
  {
   "cell_type": "code",
   "execution_count": 68,
   "id": "9beaf559",
   "metadata": {},
   "outputs": [],
   "source": [
    "e_res3_3, e_time3_3, e_itemsetsCount3_3, e_maxLen3_3, e_diffLenItemsetsCount3_3 = eclat(min_supp_3[2], records_3)"
   ]
  },
  {
   "cell_type": "markdown",
   "id": "6acca7a2",
   "metadata": {},
   "source": [
    "### FP-GROWTH"
   ]
  },
  {
   "cell_type": "code",
   "execution_count": 81,
   "id": "32651e48",
   "metadata": {
    "scrolled": true
   },
   "outputs": [],
   "source": [
    "f_res1_3, f_time1_3, f_itemsetsCount1_3, f_maxLen1_3, f_diffLenItemsetsCount1_3 = fp_growth(min_supp_3[0], transactions_3)"
   ]
  },
  {
   "cell_type": "code",
   "execution_count": 82,
   "id": "f16c5e4f",
   "metadata": {},
   "outputs": [],
   "source": [
    "f_res2_3, f_time2_3, f_itemsetsCount2_3, f_maxLen2_3, f_diffLenItemsetsCount2_3 = fp_growth(min_supp_3[1], transactions_3)"
   ]
  },
  {
   "cell_type": "code",
   "execution_count": 83,
   "id": "006ba985",
   "metadata": {},
   "outputs": [],
   "source": [
    "f_res3_3, f_time3_3, f_itemsetsCount3_3, f_maxLen3_3, f_diffLenItemsetsCount3_3 = fp_growth(min_supp_3[2], transactions_3)"
   ]
  },
  {
   "cell_type": "markdown",
   "id": "6456166b",
   "metadata": {},
   "source": [
    "## Диаграмы"
   ]
  },
  {
   "cell_type": "code",
   "execution_count": 40,
   "id": "35c0f893",
   "metadata": {},
   "outputs": [],
   "source": [
    "import matplotlib.pyplot as plt\n",
    "import numpy as np"
   ]
  },
  {
   "cell_type": "markdown",
   "id": "1c9f6a61",
   "metadata": {},
   "source": [
    "### 1 dataset"
   ]
  },
  {
   "cell_type": "code",
   "execution_count": 41,
   "id": "26e0f5a0",
   "metadata": {},
   "outputs": [],
   "source": [
    "groups = list(['A(' + str(sup) + ')' for sup in min_supp_1])\n",
    "groups.extend(list(['E(' + str(sup) + ')' for sup in min_supp_1]))\n",
    "groups.extend(list(['F(' + str(sup) + ')' for sup in min_supp_1]))"
   ]
  },
  {
   "cell_type": "code",
   "execution_count": 52,
   "id": "ddf4616c",
   "metadata": {},
   "outputs": [
    {
     "data": {
      "text/plain": [
       "<BarContainer object of 9 artists>"
      ]
     },
     "execution_count": 52,
     "metadata": {},
     "output_type": "execute_result"
    },
    {
     "data": {
      "image/png": "[encoded data removed]",
      "text/plain": [
       "<Figure size 640x480 with 1 Axes>"
      ]
     },
     "metadata": {},
     "output_type": "display_data"
    }
   ],
   "source": [
    "counts = [a_time1_1, a_time2_1, a_time3_1, e_time1_1, e_time2_1, e_time3_1, f_time1_1, f_time2_1, f_time3_1]\n",
    "plt.bar(groups, counts)"
   ]
  },
  {
   "cell_type": "code",
   "execution_count": 53,
   "id": "262a4480",
   "metadata": {},
   "outputs": [
    {
     "data": {
      "text/plain": [
       "<BarContainer object of 9 artists>"
      ]
     },
     "execution_count": 53,
     "metadata": {},
     "output_type": "execute_result"
    },
    {
     "data": {
      "image/png": "[encoded data removed]",
      "text/plain": [
       "<Figure size 640x480 with 1 Axes>"
      ]
     },
     "metadata": {},
     "output_type": "display_data"
    }
   ],
   "source": [
    "counts = [a_itemsetsCount1_1, a_itemsetsCount2_1, a_itemsetsCount3_1, a_itemsetsCount1_1, a_itemsetsCount2_1, a_itemsetsCount3_1, f_itemsetsCount1_1, f_itemsetsCount2_1, f_itemsetsCount3_1]\n",
    "plt.bar(groups, counts)"
   ]
  },
  {
   "cell_type": "code",
   "execution_count": 57,
   "id": "fc8d6ee5",
   "metadata": {},
   "outputs": [
    {
     "data": {
      "text/plain": [
       "<BarContainer object of 9 artists>"
      ]
     },
     "execution_count": 57,
     "metadata": {},
     "output_type": "execute_result"
    },
    {
     "data": {
      "image/png": "[encoded data removed]",
      "text/plain": [
       "<Figure size 640x480 with 1 Axes>"
      ]
     },
     "metadata": {},
     "output_type": "display_data"
    }
   ],
   "source": [
    "counts = [a_maxLen1_1, a_maxLen2_1, a_maxLen3_1, e_maxLen1_1, e_maxLen2_1, e_maxLen3_1, f_maxLen1_1, f_maxLen2_1, f_maxLen3_1]\n",
    "plt.bar(groups, counts)"
   ]
  },
  {
   "cell_type": "code",
   "execution_count": 69,
   "id": "72abce75",
   "metadata": {},
   "outputs": [
    {
     "data": {
      "text/plain": [
       "<BarContainer object of 9 artists>"
      ]
     },
     "execution_count": 69,
     "metadata": {},
     "output_type": "execute_result"
    },
    {
     "data": {
      "image/png": "[encoded data removed]",
      "text/plain": [
       "<Figure size 640x480 with 1 Axes>"
      ]
     },
     "metadata": {},
     "output_type": "display_data"
    }
   ],
   "source": [
    "counts = [a_diffLenItemsetsCount1_1, a_diffLenItemsetsCount2_1, a_diffLenItemsetsCount3_1, e_diffLenItemsetsCount1_1, e_diffLenItemsetsCount2_1, e_diffLenItemsetsCount3_1, f_diffLenItemsetsCount1_1, f_diffLenItemsetsCount2_1, f_diffLenItemsetsCount3_1]\n",
    "plt.bar(groups, counts)"
   ]
  },
  {
   "cell_type": "markdown",
   "id": "3a10260d",
   "metadata": {},
   "source": [
    "### 2 dataset"
   ]
  },
  {
   "cell_type": "code",
   "execution_count": 70,
   "id": "55792646",
   "metadata": {},
   "outputs": [],
   "source": [
    "groups = list(['A(' + str(sup) + ')' for sup in min_supp_2])\n",
    "groups.extend(list(['E(' + str(sup) + ')' for sup in min_supp_2]))\n",
    "groups.extend(list(['F(' + str(sup) + ')' for sup in min_supp_2]))"
   ]
  },
  {
   "cell_type": "code",
   "execution_count": 71,
   "id": "1f377026",
   "metadata": {},
   "outputs": [
    {
     "data": {
      "text/plain": [
       "<BarContainer object of 9 artists>"
      ]
     },
     "execution_count": 71,
     "metadata": {},
     "output_type": "execute_result"
    },
    {
     "data": {
      "image/png": "[encoded data removed]",
      "text/plain": [
       "<Figure size 640x480 with 1 Axes>"
      ]
     },
     "metadata": {},
     "output_type": "display_data"
    }
   ],
   "source": [
    "counts = [a_time1_2, a_time2_2, a_time3_2, e_time1_2, e_time2_2, e_time3_2, f_time1_2, f_time2_2, f_time3_2]\n",
    "plt.bar(groups, counts)"
   ]
  },
  {
   "cell_type": "code",
   "execution_count": 72,
   "id": "4288e4c6",
   "metadata": {},
   "outputs": [
    {
     "data": {
      "text/plain": [
       "<BarContainer object of 9 artists>"
      ]
     },
     "execution_count": 72,
     "metadata": {},
     "output_type": "execute_result"
    },
    {
     "data": {
      "image/png": "[encoded data removed]",
      "text/plain": [
       "<Figure size 640x480 with 1 Axes>"
      ]
     },
     "metadata": {},
     "output_type": "display_data"
    }
   ],
   "source": [
    "counts = [a_itemsetsCount1_2, a_itemsetsCount2_2, a_itemsetsCount3_2, a_itemsetsCount1_2, a_itemsetsCount2_2, a_itemsetsCount3_2, f_itemsetsCount1_2, f_itemsetsCount2_2, f_itemsetsCount3_2]\n",
    "plt.bar(groups, counts)"
   ]
  },
  {
   "cell_type": "code",
   "execution_count": 73,
   "id": "e487f34e",
   "metadata": {},
   "outputs": [
    {
     "data": {
      "text/plain": [
       "<BarContainer object of 9 artists>"
      ]
     },
     "execution_count": 73,
     "metadata": {},
     "output_type": "execute_result"
    },
    {
     "data": {
      "image/png": "[encoded data removed]",
      "text/plain": [
       "<Figure size 640x480 with 1 Axes>"
      ]
     },
     "metadata": {},
     "output_type": "display_data"
    }
   ],
   "source": [
    "counts = [a_maxLen1_2, a_maxLen2_2, a_maxLen3_2, e_maxLen1_2, e_maxLen2_2, e_maxLen3_2, f_maxLen1_2, f_maxLen2_2, f_maxLen3_2]\n",
    "plt.bar(groups, counts)"
   ]
  },
  {
   "cell_type": "code",
   "execution_count": 74,
   "id": "0712bd7b",
   "metadata": {},
   "outputs": [
    {
     "data": {
      "text/plain": [
       "<BarContainer object of 9 artists>"
      ]
     },
     "execution_count": 74,
     "metadata": {},
     "output_type": "execute_result"
    },
    {
     "data": {
      "image/png": "[encoded data removed]",
      "text/plain": [
       "<Figure size 640x480 with 1 Axes>"
      ]
     },
     "metadata": {},
     "output_type": "display_data"
    }
   ],
   "source": [
    "counts = [a_diffLenItemsetsCount1_2, a_diffLenItemsetsCount2_2, a_diffLenItemsetsCount3_2, e_diffLenItemsetsCount1_2, e_diffLenItemsetsCount2_2, e_diffLenItemsetsCount3_2, f_diffLenItemsetsCount1_2, f_diffLenItemsetsCount2_2, f_diffLenItemsetsCount3_2]\n",
    "plt.bar(groups, counts)"
   ]
  },
  {
   "cell_type": "markdown",
   "id": "2a7ce544",
   "metadata": {},
   "source": [
    "### 3 dataset"
   ]
  },
  {
   "cell_type": "code",
   "execution_count": 75,
   "id": "d6b8caaf",
   "metadata": {},
   "outputs": [],
   "source": [
    "groups = list(['A(' + str(sup) + ')' for sup in min_supp_3])\n",
    "groups.extend(list(['E(' + str(sup) + ')' for sup in min_supp_3]))\n",
    "groups.extend(list(['F(' + str(sup) + ')' for sup in min_supp_3]))"
   ]
  },
  {
   "cell_type": "code",
   "execution_count": 76,
   "id": "f2980ad7",
   "metadata": {},
   "outputs": [
    {
     "data": {
      "text/plain": [
       "<BarContainer object of 9 artists>"
      ]
     },
     "execution_count": 76,
     "metadata": {},
     "output_type": "execute_result"
    },
    {
     "data": {
      "image/png": "[encoded data removed]",
      "text/plain": [
       "<Figure size 640x480 with 1 Axes>"
      ]
     },
     "metadata": {},
     "output_type": "display_data"
    }
   ],
   "source": [
    "counts = [a_time1_3, a_time2_3, a_time3_3, e_time1_3, e_time2_3, e_time3_3, f_time1_3, f_time2_3, f_time3_3]\n",
    "plt.bar(groups, counts)"
   ]
  },
  {
   "cell_type": "code",
   "execution_count": 84,
   "id": "63e67b37",
   "metadata": {},
   "outputs": [
    {
     "data": {
      "text/plain": [
       "<BarContainer object of 9 artists>"
      ]
     },
     "execution_count": 84,
     "metadata": {},
     "output_type": "execute_result"
    },
    {
     "data": {
      "image/png": "[encoded data removed]",
      "text/plain": [
       "<Figure size 640x480 with 1 Axes>"
      ]
     },
     "metadata": {},
     "output_type": "display_data"
    }
   ],
   "source": [
    "counts = [a_itemsetsCount1_3, a_itemsetsCount2_3, a_itemsetsCount3_3, a_itemsetsCount1_3, a_itemsetsCount2_3, a_itemsetsCount3_3, f_itemsetsCount1_3, f_itemsetsCount2_3, f_itemsetsCount3_3]\n",
    "plt.bar(groups, counts)"
   ]
  },
  {
   "cell_type": "code",
   "execution_count": 85,
   "id": "369772c1",
   "metadata": {},
   "outputs": [
    {
     "data": {
      "text/plain": [
       "<BarContainer object of 9 artists>"
      ]
     },
     "execution_count": 85,
     "metadata": {},
     "output_type": "execute_result"
    },
    {
     "data": {
      "image/png": "[encoded data removed]",
      "text/plain": [
       "<Figure size 640x480 with 1 Axes>"
      ]
     },
     "metadata": {},
     "output_type": "display_data"
    }
   ],
   "source": [
    "counts = [a_maxLen1_3, a_maxLen2_3, a_maxLen3_3, e_maxLen1_3, e_maxLen2_3, e_maxLen3_3, f_maxLen1_3, f_maxLen2_3, f_maxLen3_3]\n",
    "plt.bar(groups, counts)"
   ]
  },
  {
   "cell_type": "code",
   "execution_count": 86,
   "id": "f9ec8bf2",
   "metadata": {},
   "outputs": [
    {
     "data": {
      "text/plain": [
       "<BarContainer object of 9 artists>"
      ]
     },
     "execution_count": 86,
     "metadata": {},
     "output_type": "execute_result"
    },
    {
     "data": {
      "image/png": "[encoded data removed]",
      "text/plain": [
       "<Figure size 640x480 with 1 Axes>"
      ]
     },
     "metadata": {},
     "output_type": "display_data"
    }
   ],
   "source": [
    "counts = [a_diffLenItemsetsCount1_3, a_diffLenItemsetsCount2_3, a_diffLenItemsetsCount3_3, e_diffLenItemsetsCount1_3, e_diffLenItemsetsCount2_3, e_diffLenItemsetsCount3_3, f_diffLenItemsetsCount1_3, f_diffLenItemsetsCount2_3, f_diffLenItemsetsCount3_3]\n",
    "plt.bar(groups, counts)"
   ]
  },
  {
   "cell_type": "code",
   "execution_count": null,
   "id": "0d91d3fe",
   "metadata": {},
   "outputs": [],
   "source": []
  }
 ],
 "metadata": {
  "kernelspec": {
   "display_name": "Python 3 (ipykernel)",
   "language": "python",
   "name": "python3"
  },
  "language_info": {
   "codemirror_mode": {
    "name": "ipython",
    "version": 3
   },
   "file_extension": ".py",
   "mimetype": "text/x-python",
   "name": "python",
   "nbconvert_exporter": "python",
   "pygments_lexer": "ipython3",
   "version": "3.9.13"
  }
 },
 "nbformat": 4,
 "nbformat_minor": 5
}
